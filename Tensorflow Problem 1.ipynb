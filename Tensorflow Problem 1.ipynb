{
 "cells": [
  {
   "cell_type": "code",
   "execution_count": 1,
   "metadata": {},
   "outputs": [
    {
     "ename": "ModuleNotFoundError",
     "evalue": "No module named 'tensorflow'",
     "output_type": "error",
     "traceback": [
      "\u001b[1;31m---------------------------------------------------------------------------\u001b[0m",
      "\u001b[1;31mModuleNotFoundError\u001b[0m                       Traceback (most recent call last)",
      "\u001b[1;32m<ipython-input-1-53dd57573e96>\u001b[0m in \u001b[0;36m<module>\u001b[1;34m()\u001b[0m\n\u001b[0;32m      1\u001b[0m \u001b[1;32mimport\u001b[0m \u001b[0mnumpy\u001b[0m \u001b[1;32mas\u001b[0m \u001b[0mnp\u001b[0m\u001b[1;33m\u001b[0m\u001b[0m\n\u001b[1;32m----> 2\u001b[1;33m \u001b[1;32mimport\u001b[0m \u001b[0mtensorflow\u001b[0m \u001b[1;32mas\u001b[0m \u001b[0mtf\u001b[0m\u001b[1;33m\u001b[0m\u001b[0m\n\u001b[0m\u001b[0;32m      3\u001b[0m \u001b[1;32mimport\u001b[0m \u001b[0mos\u001b[0m\u001b[1;33m\u001b[0m\u001b[0m\n",
      "\u001b[1;31mModuleNotFoundError\u001b[0m: No module named 'tensorflow'"
     ]
    }
   ],
   "source": [
    "import numpy as np\n",
    "import tensorflow as tf\n",
    "import os"
   ]
  },
  {
   "cell_type": "code",
   "execution_count": null,
   "metadata": {
    "collapsed": true
   },
   "outputs": [],
   "source": [
    "\n",
    "from tensorflow.examples.tutorials.mnist import input_data\n",
    "mnist = input_data.read_data_sets(\"/notebooks/data/MNIST_data/\", one_hot\n",
    "=True)"
   ]
  },
  {
   "cell_type": "code",
   "execution_count": null,
   "metadata": {
    "collapsed": true
   },
   "outputs": [],
   "source": [
    "print(mnist.validation.labels[:1])\n",
    "print('Training set', mnist.train.images.shape, mnist.train.labels.shape\n",
    ")\n",
    "print('Validation set', mnist.validation.images.shape, mnist.validation.\n",
    "labels.shape)\n",
    "print('Test set', mnist.test.images.shape, mnist.test.labels.shape)"
   ]
  },
  {
   "cell_type": "code",
   "execution_count": null,
   "metadata": {
    "collapsed": true
   },
   "outputs": [],
   "source": [
    " def hidden(data, in_dims, out_dims, name):\n",
    " with tf.name_scope(name):\n",
    " w = tf.Variable(tf.truncated_normal([in_dims, out_dims], stddev=\n",
    "0.01), name=\"W\")\n",
    " #w = tf.Variable(tf.zeros([in_dims, out_dims]), name=\"W\")\n",
    " b = tf.Variable(tf.zeros([out_dims]), name=\"B\")\n",
    " out = tf.matmul(data, w) + b\n",
    " act = tf.nn.relu(out)\n",
    " return act\n"
   ]
  },
  {
   "cell_type": "code",
   "execution_count": null,
   "metadata": {
    "collapsed": true
   },
   "outputs": [],
   "source": [
    "def out_layer(data, in_dims, out_dims, name):\n",
    " with tf.name_scope(name):\n",
    " w = tf.Variable(tf.truncated_normal([in_dims, out_dims], stddev=\n",
    "0.01), name=\"W\")\n",
    " #w = tf.Variable(tf.zeros([in_dims, out_dims]), name=\"W\")\n",
    " b = tf.Variable(tf.zeros(out_dims))\n",
    " out = tf.matmul(data, w) + b\n",
    " return out\n"
   ]
  },
  {
   "cell_type": "code",
   "execution_count": null,
   "metadata": {
    "collapsed": true
   },
   "outputs": [],
   "source": [
    "batch_size = 50\n",
    "num_of_epochs = 4\n",
    "image_size = 28\n",
    "num_labels = 10\n",
    "log_dir = '/notebooks/data/demo/'\n",
    "lr = 1e-2"
   ]
  },
  {
   "cell_type": "code",
   "execution_count": null,
   "metadata": {
    "collapsed": true
   },
   "outputs": [],
   "source": [
    "run_name = 'run-demo-2-lr-' + str(lr) + '-b' + str(batch_size) + 'h_' +\n",
    "'L-100-150-50-25'"
   ]
  },
  {
   "cell_type": "code",
   "execution_count": null,
   "metadata": {
    "collapsed": true
   },
   "outputs": [],
   "source": [
    " tf.reset_default_graph()\n"
   ]
  },
  {
   "cell_type": "code",
   "execution_count": null,
   "metadata": {
    "collapsed": true
   },
   "outputs": [],
   "source": [
    "x = tf.placeholder(tf.float32, shape=[None, image_size * image_size], na\n",
    "me=\"X\")\n",
    "y_label = tf.placeholder(tf.float32, shape=[None, num_labels], name=\"Y_l\n",
    "abel\")\n",
    "image_shaped_input = tf.reshape(x, [-1, image_size, image_size, 1])\n",
    "tf.summary.image('input', image_shaped_input, 10)\n"
   ]
  },
  {
   "cell_type": "code",
   "execution_count": null,
   "metadata": {
    "collapsed": true
   },
   "outputs": [],
   "source": [
    "hidden1 = hidden(x, image_size * image_size, 100, \"hidden1\")\n",
    "hidden2 = hidden(hidden1, 100, 150, \"hidden2\")\n",
    "hidden3 = hidden(hidden2, 150, 50, \"hidden3\")\n",
    "hidden4 = hidden(hidden3, 50, 25, \"hidden4\")\n",
    "pred = out_layer(hidden4, 25, num_labels, \"pred\")\n"
   ]
  },
  {
   "cell_type": "code",
   "execution_count": null,
   "metadata": {
    "collapsed": true
   },
   "outputs": [],
   "source": [
    " with tf.name_scope(\"xent\"):\n",
    " cost = tf.reduce_mean(tf.nn.softmax_cross_entropy_with_logits(logits\n",
    "=pred, labels=y_label))\n",
    "with tf.name_scope(\"accuracy\"):\n",
    " correct = tf.equal(tf.argmax(pred, 1), tf.argmax(y_label, 1))\n",
    " accuracy = tf.reduce_mean(tf.cast(correct, tf.float32))\n",
    "tf.summary.scalar('acc', accuracy)\n",
    "tf.summary.scalar('loss', cost)\n"
   ]
  },
  {
   "cell_type": "code",
   "execution_count": null,
   "metadata": {
    "collapsed": true
   },
   "outputs": [],
   "source": [
    "with tf.name_scope(\"train\"):\n",
    " train_step = tf.train.AdamOptimizer(lr).minimize(cost)\n"
   ]
  },
  {
   "cell_type": "code",
   "execution_count": null,
   "metadata": {
    "collapsed": true
   },
   "outputs": [],
   "source": [
    "sess = tf.Session()\n",
    "sess.run(tf.global_variables_initializer())\n"
   ]
  },
  {
   "cell_type": "code",
   "execution_count": null,
   "metadata": {
    "collapsed": true
   },
   "outputs": [],
   "source": [
    " summ = tf.summary.merge_all()\n",
    "train_writer = tf.summary.FileWriter(log_dir + 'train/' + run_name)\n",
    "train_writer.add_graph(sess.graph)\n"
   ]
  },
  {
   "cell_type": "code",
   "execution_count": null,
   "metadata": {
    "collapsed": true
   },
   "outputs": [],
   "source": [
    "total_train_indexes = len(mnist.train.images)\n",
    "for epoch in range(num_of_epochs):\n",
    " i = 0\n",
    " epoch_loss = 0\n",
    " while i < total_train_indexes:\n",
    " start = i\n",
    " end = i + batch_size\n",
    " if end > total_train_indexes:\n",
    " end = total_train_indexes\n",
    " batch_dataset = mnist.train.images[start:end]\n",
    " batch_labels = mnist.train.labels[start:end]\n",
    " input_dict = {x: batch_dataset, y_label: batch_labels}\n",
    " _, epoch_accuracy, loss, s = sess.run([train_step, accuracy, cos\n",
    "t, summ], feed_dict=input_dict)\n",
    " epoch_loss += loss\n",
    " train_writer.add_summary(s, i + total_train_indexes * epoch)\n",
    " i += batch_size\n",
    " valid_accuracy, valid_loss = sess.run([accuracy, cost],\n",
    " feed_dict={x: mnist.v\n",
    "alidation.images,\n",
    " y_label: m\n",
    "nist.validation.labels})\n",
    "\n",
    " print('Epoch', epoch + 1, 'completed out of',num_of_epochs,'train_lo\n",
    "ss:',epoch_loss, 'train_ccuracy:', epoch_accuracy)\n",
    " print('Epoch', epoch + 1, 'completed out of',num_of_epochs,'valid_lo\n",
    "ss:',valid_loss, 'valid_accuracy:', valid_accuracy)\n",
    "\n",
    "test_accuracy, test_loss = sess.run([accuracy, cost], feed_dict={x: mnis\n",
    "t.test.images, y_label: mnist.test.labels})\n",
    "print(\"Test accuracy:\", test_accuracy, \"Test loss:\", test_loss)\n"
   ]
  },
  {
   "cell_type": "code",
   "execution_count": null,
   "metadata": {
    "collapsed": true
   },
   "outputs": [],
   "source": [
    "from IPython.display import Image\n",
    "Image(\"/notebooks/data/images/tensorboard.png\")"
   ]
  }
 ],
 "metadata": {
  "kernelspec": {
   "display_name": "Python 3",
   "language": "python",
   "name": "python3"
  },
  "language_info": {
   "codemirror_mode": {
    "name": "ipython",
    "version": 3
   },
   "file_extension": ".py",
   "mimetype": "text/x-python",
   "name": "python",
   "nbconvert_exporter": "python",
   "pygments_lexer": "ipython3",
   "version": "3.6.1"
  }
 },
 "nbformat": 4,
 "nbformat_minor": 2
}
